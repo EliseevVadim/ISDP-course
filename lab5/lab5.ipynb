{
 "cells": [
  {
   "cell_type": "markdown",
   "id": "387b6a23",
   "metadata": {},
   "source": [
    "# Лабораторная работа №5"
   ]
  },
  {
   "cell_type": "markdown",
   "id": "b11beae7",
   "metadata": {},
   "source": [
    "## Тайные многосторонние вычисления и разделение секрета"
   ]
  },
  {
   "cell_type": "markdown",
   "id": "d5e1702d",
   "metadata": {},
   "source": [
    "**Задание:**\n",
    "\n",
    "Необходимо привести последовательность выполнения следующих протоколов:\n",
    "- тайных многосторонних вычислений для расчета средней величины трех чисел. В качестве исходных данных принять коды 1-ой, 2-ой и 3-ей буквы своей фамилии согласно их положению в алфавите;\n",
    "- разбиения секрета с использованием гаммирования для трех участников. В качестве секрета принять первые 3 буквы фамилии, для гамм - любые трехбуквенные сочетания;\n",
    "- разделения секрета по схеме Шамира для (3, 5)-пороговой схемы. В качестве секрета S принять код 1-ой буквы своей фамилии согласно ее положению в алфавите;\n",
    "- разделения секрета по схеме Асмута-Блума для (3, 5)-пороговой схемы. В качестве секрета S принять код 1-ой буквы своей фамилии согласно ее положению в алфавите"
   ]
  },
  {
   "cell_type": "markdown",
   "id": "dd707831",
   "metadata": {},
   "source": [
    "### Импорт необходимых библиотек и модулей"
   ]
  },
  {
   "cell_type": "code",
   "execution_count": 1,
   "id": "20c6f382",
   "metadata": {},
   "outputs": [],
   "source": [
    "import numpy as np"
   ]
  },
  {
   "cell_type": "code",
   "execution_count": 2,
   "id": "7fda4174",
   "metadata": {},
   "outputs": [],
   "source": [
    "from core.params_generator import generate_secret_multilateral_protocol_parameters\n",
    "from core.utils import *\n",
    "from core.protocols import *"
   ]
  },
  {
   "cell_type": "markdown",
   "id": "5500e7b9",
   "metadata": {},
   "source": [
    "Для воспроизводимости экспериментов"
   ]
  },
  {
   "cell_type": "code",
   "execution_count": 3,
   "id": "6c4076c5",
   "metadata": {},
   "outputs": [],
   "source": [
    "init_random_seed(893)"
   ]
  },
  {
   "cell_type": "markdown",
   "id": "abc533e7",
   "metadata": {},
   "source": [
    "### Протокол тайных многосторонних вычислений для расчета средней величины трех чисел "
   ]
  },
  {
   "cell_type": "markdown",
   "id": "87138f9a",
   "metadata": {},
   "source": [
    "В качестве кодов возьмем номера первых трех букв фамилии по алфавиту"
   ]
  },
  {
   "cell_type": "code",
   "execution_count": 4,
   "id": "37ee4168",
   "metadata": {},
   "outputs": [
    {
     "data": {
      "text/plain": [
       "[6, 13, 10]"
      ]
     },
     "execution_count": 4,
     "metadata": {},
     "output_type": "execute_result"
    }
   ],
   "source": [
    "letters = ['Е', 'л', 'и']\n",
    "codes = [letter_to_code(letter) for letter in letters]\n",
    "codes"
   ]
  },
  {
   "cell_type": "markdown",
   "id": "5f5f8c13",
   "metadata": {},
   "source": [
    "Сгенерируем параметры шифрования необходимые для работы алгоритма. Для каждого \"агента\" это будут:\n",
    "\n",
    "- Открытый ключ e;\n",
    "- Открытый ключ n;\n",
    "- Закрытый ключ"
   ]
  },
  {
   "cell_type": "code",
   "execution_count": 5,
   "id": "1bd2baec",
   "metadata": {},
   "outputs": [
    {
     "data": {
      "text/plain": [
       "[{'code': 6, 'n': 91, 'e': 7, 'd': 31},\n",
       " {'code': 13, 'n': 91, 'e': 5, 'd': 29},\n",
       " {'code': 10, 'n': 91, 'e': 17, 'd': 17}]"
      ]
     },
     "execution_count": 5,
     "metadata": {},
     "output_type": "execute_result"
    }
   ],
   "source": [
    "encryption_params = []\n",
    "\n",
    "for i, param in enumerate(generate_secret_multilateral_protocol_parameters()):\n",
    "        encryption_params.append({\n",
    "        'code': codes[i],\n",
    "        'n': param['n'],\n",
    "        'e': param['e'],\n",
    "        'd': param['d']\n",
    "    })\n",
    "    \n",
    "encryption_params"
   ]
  },
  {
   "cell_type": "markdown",
   "id": "568b2197",
   "metadata": {},
   "source": [
    "Вычислим среднее значение, используя протокол тайных многосторонних вычислений"
   ]
  },
  {
   "cell_type": "code",
   "execution_count": 6,
   "id": "209c9e0c",
   "metadata": {},
   "outputs": [
    {
     "name": "stdout",
     "output_type": "stream",
     "text": [
      "Шифрование агентом №1:\n",
      "\n",
      "x = 32\n",
      "(6 + 32) ** 5 mod 91 = 12\n",
      "Шифрование агентом №2:\n",
      "\n",
      "x = 12 ** 29 % 91 = 38\n",
      "(13 + 38) ** 17 mod 91 = 25\n",
      "\n",
      "Шифрование агентом №3:\n",
      "\n",
      "x = 25 ** 17 % 91 = 51\n",
      "(10 + 51) ** 7 mod 91 = 61\n",
      "\n",
      "Расшифровка результата:\n",
      "\n",
      "61 ** 31 % 91 = 61\n",
      "(61 - 32) / 3 = 9.666666666666666\n",
      "\n",
      "Среднее значение: 9.666666666666666\n"
     ]
    }
   ],
   "source": [
    "average_value = secret_multilateral_protocol(encryption_params)\n",
    "print(f\"Среднее значение: {average_value}\")"
   ]
  },
  {
   "cell_type": "markdown",
   "id": "621bc632",
   "metadata": {},
   "source": [
    "Проверим корректность работы протокола"
   ]
  },
  {
   "cell_type": "code",
   "execution_count": 7,
   "id": "259061e4",
   "metadata": {},
   "outputs": [
    {
     "name": "stdout",
     "output_type": "stream",
     "text": [
      "Протокол тайных многосторонних вычислений для расчета средней величины трех чисел выполнен успешно\n"
     ]
    }
   ],
   "source": [
    "assert np.mean(codes) == average_value\n",
    "print(\"Протокол тайных многосторонних вычислений для расчета средней величины трех чисел выполнен успешно\")"
   ]
  },
  {
   "cell_type": "markdown",
   "id": "c441a298",
   "metadata": {},
   "source": [
    "### Протокол разбиения секрета с использованием гаммирования"
   ]
  },
  {
   "cell_type": "markdown",
   "id": "5dcd6145",
   "metadata": {},
   "source": [
    "В качестве секрета возьмем первые 3 буквы фамилии, представленные списком символов в верхнем регистре"
   ]
  },
  {
   "cell_type": "code",
   "execution_count": 8,
   "id": "18d58dc3",
   "metadata": {},
   "outputs": [],
   "source": [
    "secret = ['Е', 'Л', 'И']"
   ]
  },
  {
   "cell_type": "markdown",
   "id": "cf62b36f",
   "metadata": {},
   "source": [
    "Запустим работу протокола"
   ]
  },
  {
   "cell_type": "code",
   "execution_count": 9,
   "id": "ff6caa09",
   "metadata": {},
   "outputs": [
    {
     "name": "stdout",
     "output_type": "stream",
     "text": [
      "Исходные коды:\n",
      "\n",
      "['11000101', '11001011', '11001000']\n",
      "\n",
      "Гаммы:\n",
      "\n",
      "[['Щ', 'Ж', 'Х'], ['О', 'Ф', 'Х'], ['В', 'Ь', 'О']]\n",
      "\n",
      "Гаммы в закодированном виде:\n",
      "\n",
      "[['11011001', '11000110', '11010101'], ['11001110', '11010100', '11010101'], ['11000010', '11011100', '11001110']]\n",
      "\n",
      "Коды шифрования\n",
      "\n",
      "[['11000101', '11001011', '11001000'], ['11011001', '11000110', '11010101'], ['11001110', '11010100', '11010101'], ['11000010', '11011100', '11001110']]\n",
      "\n",
      "Зашифрованные коды:\n",
      "\n",
      "['00010000', '00000101', '00000110']\n",
      "\n",
      "Коды дешифрования\n",
      "\n",
      "[['11011001', '11000110', '11010101'], ['11001110', '11010100', '11010101'], ['11000010', '11011100', '11001110'], ['00010000', '00000101', '00000110']]\n",
      "\n",
      "Дешифрованные коды:\n",
      "\n",
      "['11000101', '11001011', '11001000']\n"
     ]
    }
   ],
   "source": [
    "decrypted, codes = gamma_secret_split_protocol(secret, n_gammas=3)"
   ]
  },
  {
   "cell_type": "markdown",
   "id": "4b6f2604",
   "metadata": {},
   "source": [
    "Проверим корректность работы протокола"
   ]
  },
  {
   "cell_type": "code",
   "execution_count": 10,
   "id": "401f4049",
   "metadata": {},
   "outputs": [
    {
     "name": "stdout",
     "output_type": "stream",
     "text": [
      "Протокол разбиения секрета с использованием гаммирования выполнен успешно\n"
     ]
    }
   ],
   "source": [
    "assert decrypted == codes\n",
    "print(\"Протокол разбиения секрета с использованием гаммирования выполнен успешно\")"
   ]
  },
  {
   "cell_type": "markdown",
   "id": "ee4f4ebc",
   "metadata": {},
   "source": [
    "### Протокол разделения секрета по схеме Шамира"
   ]
  },
  {
   "cell_type": "markdown",
   "id": "f5564faf",
   "metadata": {},
   "source": [
    "В качестве секрета возьмем первую букву фамилии, представленную в Unicode"
   ]
  },
  {
   "cell_type": "code",
   "execution_count": 11,
   "id": "b34e846a",
   "metadata": {},
   "outputs": [
    {
     "name": "stdout",
     "output_type": "stream",
     "text": [
      "Зашифрованный код: 1045\n"
     ]
    }
   ],
   "source": [
    "secret = ord('Е')\n",
    "print(f\"Зашифрованный код: {secret}\")"
   ]
  },
  {
   "cell_type": "markdown",
   "id": "d64efe93",
   "metadata": {},
   "source": [
    "Определим параметры системы:\n",
    "\n",
    "- число долей разбиения;\n",
    "- минимальное необходимое число долей для восстановления;\n",
    "- простое число, превосходящее секрет"
   ]
  },
  {
   "cell_type": "code",
   "execution_count": 12,
   "id": "5536266a",
   "metadata": {},
   "outputs": [],
   "source": [
    "n = 5\n",
    "m = 3\n",
    "p = 2089"
   ]
  },
  {
   "cell_type": "markdown",
   "id": "08e95107",
   "metadata": {},
   "source": [
    "Проведем разбиение по схеме Шамира"
   ]
  },
  {
   "cell_type": "code",
   "execution_count": 13,
   "id": "03aa7020",
   "metadata": {},
   "outputs": [
    {
     "name": "stdout",
     "output_type": "stream",
     "text": [
      "Коэффициенты полинома:\n",
      "\n",
      "[1045, 795, 1828]\n",
      "\n",
      "Сгенерированные доли:\n",
      "\n",
      "[(1, 1579), (2, 1591), (3, 1081), (4, 49), (5, 584)]\n"
     ]
    }
   ],
   "source": [
    "shares = shamir_split_protocol(secret, n, m, p)"
   ]
  },
  {
   "cell_type": "markdown",
   "id": "5f00324f",
   "metadata": {},
   "source": [
    "По сгенерированным долям восстановим секрет"
   ]
  },
  {
   "cell_type": "code",
   "execution_count": 14,
   "id": "a99cfcc9",
   "metadata": {},
   "outputs": [
    {
     "name": "stdout",
     "output_type": "stream",
     "text": [
      "Используем доли для восстановления секрета:\n",
      "\n",
      "[(1, 1579), (2, 1591), (3, 1081), (4, 49), (5, 584)]\n",
      "\n",
      "Процесс интерполяции для x = 0:\n",
      "  Применение к точке (1, 1579):\n",
      "    Умножаем на (x - 2) / (1 - 2)...\n",
      "    Умножаем на (x - 3) / (1 - 3)...\n",
      "    Умножаем на (x - 4) / (1 - 4)...\n",
      "    Умножаем на (x - 5) / (1 - 5)...\n",
      "  Промежуточная сумма для точки 0: 1628\n",
      "  Применение к точке (2, 1591):\n",
      "    Умножаем на (x - 1) / (2 - 1)...\n",
      "    Умножаем на (x - 3) / (2 - 3)...\n",
      "    Умножаем на (x - 4) / (2 - 4)...\n",
      "    Умножаем на (x - 5) / (2 - 5)...\n",
      "  Промежуточная сумма для точки 1: 341\n",
      "  Применение к точке (3, 1081):\n",
      "    Умножаем на (x - 1) / (3 - 1)...\n",
      "    Умножаем на (x - 2) / (3 - 2)...\n",
      "    Умножаем на (x - 4) / (3 - 4)...\n",
      "    Умножаем на (x - 5) / (3 - 5)...\n",
      "  Промежуточная сумма для точки 2: 706\n",
      "  Применение к точке (4, 49):\n",
      "    Умножаем на (x - 1) / (4 - 1)...\n",
      "    Умножаем на (x - 2) / (4 - 2)...\n",
      "    Умножаем на (x - 3) / (4 - 3)...\n",
      "    Умножаем на (x - 5) / (4 - 5)...\n",
      "  Промежуточная сумма для точки 3: 461\n",
      "  Применение к точке (5, 584):\n",
      "    Умножаем на (x - 1) / (5 - 1)...\n",
      "    Умножаем на (x - 2) / (5 - 2)...\n",
      "    Умножаем на (x - 3) / (5 - 3)...\n",
      "    Умножаем на (x - 4) / (5 - 4)...\n",
      "  Промежуточная сумма для точки 4: 1045\n"
     ]
    }
   ],
   "source": [
    "recovered_secret = shamir_recover(shares, p)"
   ]
  },
  {
   "cell_type": "code",
   "execution_count": 15,
   "id": "aec2f80e",
   "metadata": {},
   "outputs": [
    {
     "name": "stdout",
     "output_type": "stream",
     "text": [
      "Восстановленный код: 1045\n"
     ]
    }
   ],
   "source": [
    "print(f\"Восстановленный код: {recovered_secret}\")"
   ]
  },
  {
   "cell_type": "markdown",
   "id": "30451998",
   "metadata": {},
   "source": [
    "Проверим корректность работы протокола"
   ]
  },
  {
   "cell_type": "code",
   "execution_count": 16,
   "id": "7afea901",
   "metadata": {},
   "outputs": [
    {
     "name": "stdout",
     "output_type": "stream",
     "text": [
      "Протокол разделения секрета по схеме Шамира выполнен успешно\n"
     ]
    }
   ],
   "source": [
    "assert recovered_secret == secret\n",
    "print(\"Протокол разделения секрета по схеме Шамира выполнен успешно\")"
   ]
  },
  {
   "cell_type": "markdown",
   "id": "86ef4f4f",
   "metadata": {},
   "source": [
    "### Протокол разделения секрета по схеме Асмута-Блума"
   ]
  },
  {
   "cell_type": "markdown",
   "id": "10a752a9",
   "metadata": {},
   "source": [
    "Используем те же параметры протокола, что и в случае схемы Шамира"
   ]
  },
  {
   "cell_type": "markdown",
   "id": "5892e2b6",
   "metadata": {},
   "source": [
    "Сгенерируем доли"
   ]
  },
  {
   "cell_type": "code",
   "execution_count": 17,
   "id": "6b81d71c",
   "metadata": {},
   "outputs": [
    {
     "name": "stdout",
     "output_type": "stream",
     "text": [
      "Таблица долей (di, ki):\n",
      "(2089, 1045)\n",
      "(2099, 1045)\n",
      "(2111, 1045)\n",
      "(2113, 1045)\n",
      "(2129, 1045)\n",
      "\n",
      "Публикуем p: 2089\n"
     ]
    }
   ],
   "source": [
    "d, shares = secret_sharing_scheme(secret, n, m, p)"
   ]
  },
  {
   "cell_type": "markdown",
   "id": "33a25b6b",
   "metadata": {},
   "source": [
    "По сгенерированным долям восстановим секрет с помощью [китайской теоремы об остатках](https://ru.wikipedia.org/wiki/Китайская_теорема_об_остатках)"
   ]
  },
  {
   "cell_type": "code",
   "execution_count": 18,
   "id": "24a3dd41",
   "metadata": {},
   "outputs": [
    {
     "name": "stdout",
     "output_type": "stream",
     "text": [
      "\n",
      "Восстановление секрета с помощью китайской теоремы об остатках...\n",
      "\n",
      "Восстановленный секрет: 1045\n"
     ]
    }
   ],
   "source": [
    "recovered_secret = secret_recovery(d[:m], shares[:m])\n",
    "print(f\"Восстановленный секрет: {recovered_secret}\")"
   ]
  },
  {
   "cell_type": "markdown",
   "id": "3c4ba270",
   "metadata": {},
   "source": [
    "Проверим корректность работы протокола"
   ]
  },
  {
   "cell_type": "code",
   "execution_count": 19,
   "id": "3da05220",
   "metadata": {},
   "outputs": [
    {
     "name": "stdout",
     "output_type": "stream",
     "text": [
      "Протокол разделения секрета по схеме Асмута-Блума выполнен успешно\n"
     ]
    }
   ],
   "source": [
    "assert recovered_secret == secret\n",
    "print(\"Протокол разделения секрета по схеме Асмута-Блума выполнен успешно\")"
   ]
  }
 ],
 "metadata": {
  "kernelspec": {
   "display_name": "Python 3 (ipykernel)",
   "language": "python",
   "name": "python3"
  },
  "language_info": {
   "codemirror_mode": {
    "name": "ipython",
    "version": 3
   },
   "file_extension": ".py",
   "mimetype": "text/x-python",
   "name": "python",
   "nbconvert_exporter": "python",
   "pygments_lexer": "ipython3",
   "version": "3.11.5"
  }
 },
 "nbformat": 4,
 "nbformat_minor": 5
}
