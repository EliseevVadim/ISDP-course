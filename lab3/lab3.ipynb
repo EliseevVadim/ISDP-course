{
 "cells": [
  {
   "cell_type": "markdown",
   "id": "e981e1cf",
   "metadata": {},
   "source": [
    "# Лабораторная работа №3"
   ]
  },
  {
   "cell_type": "markdown",
   "id": "0202edea",
   "metadata": {},
   "source": [
    "## Криптографические протоколы на основе асимметричных криптосистем"
   ]
  },
  {
   "cell_type": "markdown",
   "id": "c99322c0",
   "metadata": {},
   "source": [
    "**Задание:**\n",
    "\n",
    "Разработать алгоритмы, реализующие криптографические протоколы (см. вариант) взаимодействия удаленных абонентов на основе асимметричных криптосистем. \n",
    "\n",
    "Написать программы, реализующие эти протоколы для всех участников. Значения модуля криптосистемы выбирать не менее 50 бит. Для вычислений с большими числами можно использовать специальные программы.\n",
    "\n",
    "Для проверки чисел на простоту использовать комбинированный алгоритм на основе тестов Леманна или Рабина-Миллера\n",
    "Хеширование выполнять на основе любого блочного симметричного алгоритма (например, с использованием сети Фейстеля или алгоритма из предыдущих лаб. работ) по одной из схем, данных в лекциях.\n",
    "\n",
    "Проверить правильность выполнения протокола для малых значений параметров криптосистемы (контрольный пример).\n",
    "\n",
    "Продемонстрировать выполнение протокола для нормальных значений параметров криптосистемы.\n"
   ]
  },
  {
   "cell_type": "markdown",
   "id": "73b71aa1",
   "metadata": {},
   "source": [
    "Задание по варианту: реализовать `протокол идентификации абонента с помощью алгоритма цифровой подписи DSA`."
   ]
  },
  {
   "cell_type": "markdown",
   "id": "c52d9c56",
   "metadata": {},
   "source": [
    "Для тестирования результата симитируем challenge-response аутентификацию: будем генерировать случайную строку заданной длины, после чего осуществим ее подпись на имитируемой стороне клиента. Далее проверим эту подпись на имитируемой стороне сервера, если она окажется корректной - аутентификация удалась"
   ]
  },
  {
   "cell_type": "markdown",
   "id": "4f4317d6",
   "metadata": {},
   "source": [
    "Суть алгоритма цифровой подписи [DSA](https://ru.wikipedia.org/wiki/DSA) заключается в следующем:"
   ]
  },
  {
   "cell_type": "markdown",
   "id": "cd0a8bc8",
   "metadata": {},
   "source": [
    "Пусть у нас есть базовые параметры $H(m)$ - криптографическая хеш-функция от сообщения $m$, $q$ - простое число, размерность которого в битах совпадает с размерностью в битах значений $H(m)$, $p$, такое, что $p-1$ делится на $q$ без остатка, $g$, такое, что его [мультипликативный порядок по модулю](https://ru.wikipedia.org/wiki/Мультипликативный_порядок_по_модулю) $p$ равен $q$, $x$ - секретный ключ, случайное число от 1 до $q$, $y = g^x \\mod p$ - открытый ключ "
   ]
  },
  {
   "cell_type": "markdown",
   "id": "0170c375",
   "metadata": {},
   "source": [
    "Далее мы можем подписать сообщениие $m$ следующим образом:\n",
    "\n",
    "- выбрать случайное число $k \\in (0, q)$;\n",
    "- вычислить $r = (g^k \\mod p) \\mod q$, так, чтобы $r$ не равнялось нулю. В противном случае - поменять $k$;\n",
    "- вычислить $s = k^{-1}(H(m) + x \\cdot r) \\mod q$, так, чтобы $s$ не равнялось нулю. В противном случае - поменять $k$\n",
    "\n",
    "Подписью сообщения будет пара ($r$, $s$)"
   ]
  },
  {
   "cell_type": "markdown",
   "id": "6542e793",
   "metadata": {},
   "source": [
    "Проверка подписи осуществляется по следующему алгоритму:\n",
    "\n",
    "- вычисляется $w = s^{-1} \\mod q$;\n",
    "- вычисляется $u_1 = H(m) \\cdot w \\mod q$;\n",
    "- вычисляется $u_2 = r \\cdot w \\mod q$;\n",
    "- вычисляется $v = (g^{u_1} \\cdot y^{u_2} \\mod p) \\mod q$\n",
    "\n",
    "Если $v = r$, значит подпись верна"
   ]
  },
  {
   "cell_type": "markdown",
   "id": "fc0c9c73",
   "metadata": {},
   "source": [
    "## Импорт необходимых библиотек"
   ]
  },
  {
   "cell_type": "code",
   "execution_count": 1,
   "id": "a5655964",
   "metadata": {},
   "outputs": [],
   "source": [
    "from core.params_generators import *\n",
    "from core.signing import *"
   ]
  },
  {
   "cell_type": "markdown",
   "id": "2d09b69d",
   "metadata": {},
   "source": [
    "Проверим корректность и эффективность работы протокола при малых параметрах криптосистемы, а потом при приближенных к реальным "
   ]
  },
  {
   "cell_type": "markdown",
   "id": "9e941902",
   "metadata": {},
   "source": [
    "Сгенерируем подписываемое сообщение"
   ]
  },
  {
   "cell_type": "code",
   "execution_count": 2,
   "id": "99621ffd",
   "metadata": {},
   "outputs": [
    {
     "data": {
      "text/plain": [
       "'7968'"
      ]
     },
     "execution_count": 2,
     "metadata": {},
     "output_type": "execute_result"
    }
   ],
   "source": [
    "challenge = generate_challenge(1000, 9999)\n",
    "challenge"
   ]
  },
  {
   "cell_type": "markdown",
   "id": "00da49d5",
   "metadata": {},
   "source": [
    "## Проверка протокола на малых параметрах"
   ]
  },
  {
   "cell_type": "code",
   "execution_count": 3,
   "id": "2b6ebe75",
   "metadata": {},
   "outputs": [
    {
     "name": "stdout",
     "output_type": "stream",
     "text": [
      "Закрытый ключ: 97887929\n",
      "Открытый ключ: 1516042254\n"
     ]
    }
   ],
   "source": [
    "small_params = generate_dsa_parameters(bits=66)\n",
    "\n",
    "print(f\"Закрытый ключ: {small_params[3]}\")\n",
    "print(f\"Открытый ключ: {small_params[4]}\")"
   ]
  },
  {
   "cell_type": "code",
   "execution_count": 4,
   "id": "ab689356",
   "metadata": {},
   "outputs": [
    {
     "name": "stdout",
     "output_type": "stream",
     "text": [
      "Сообщение было подписано: r = 42791890, s = 20651287\n",
      "CPU times: total: 0 ns\n",
      "Wall time: 1 ms\n"
     ]
    }
   ],
   "source": [
    "%%time\n",
    "r, s = sign_message(challenge, small_params)\n",
    "\n",
    "print(f\"Сообщение было подписано: r = {r}, s = {s}\")"
   ]
  },
  {
   "cell_type": "code",
   "execution_count": 5,
   "id": "65be654a",
   "metadata": {},
   "outputs": [
    {
     "name": "stdout",
     "output_type": "stream",
     "text": [
      "Идентификация успешна\n",
      "CPU times: total: 0 ns\n",
      "Wall time: 1 ms\n"
     ]
    }
   ],
   "source": [
    "%%time\n",
    "signed_well = verify_signature(challenge, r, s, small_params)\n",
    "\n",
    "print(\"Идентификация успешна\" if signed_well else \"Верификация провалена\")"
   ]
  },
  {
   "cell_type": "markdown",
   "id": "d09969c2",
   "metadata": {},
   "source": [
    "Как видно, протокол успешно отработал на малых значениях параметров криптосистемы"
   ]
  },
  {
   "cell_type": "markdown",
   "id": "1089b973",
   "metadata": {},
   "source": [
    "## Проверка протокола на реальных параметрах"
   ]
  },
  {
   "cell_type": "code",
   "execution_count": 6,
   "id": "c0cab7b6",
   "metadata": {},
   "outputs": [
    {
     "name": "stdout",
     "output_type": "stream",
     "text": [
      "Закрытый ключ: 3314514092876822308529489145021961516349167259239800060492386510595974391908468142268222480601836242\n",
      "Открытый ключ: 15804729763397345123056224991530203278253950389748557152334359535827844532408522379495167631513255958\n"
     ]
    }
   ],
   "source": [
    "bigger_params = generate_dsa_parameters(bits=666)\n",
    "\n",
    "print(f\"Закрытый ключ: {bigger_params[3]}\")\n",
    "print(f\"Открытый ключ: {bigger_params[4]}\")"
   ]
  },
  {
   "cell_type": "code",
   "execution_count": 7,
   "id": "906d11d7",
   "metadata": {},
   "outputs": [
    {
     "name": "stdout",
     "output_type": "stream",
     "text": [
      "Сообщение было подписано: r = 2513672138068741840393466388624152781273501510052025560877167487594775223593590233912584286382273517, s = 790416902515980663293363423867731418707009296050333833497332271362210327718173972660224536750860500\n",
      "CPU times: total: 0 ns\n",
      "Wall time: 999 µs\n"
     ]
    }
   ],
   "source": [
    "%%time\n",
    "r, s = sign_message(challenge, bigger_params)\n",
    "\n",
    "print(f\"Сообщение было подписано: r = {r}, s = {s}\")"
   ]
  },
  {
   "cell_type": "code",
   "execution_count": 8,
   "id": "191e826c",
   "metadata": {},
   "outputs": [
    {
     "name": "stdout",
     "output_type": "stream",
     "text": [
      "Идентификация успешна\n",
      "CPU times: total: 0 ns\n",
      "Wall time: 1.02 ms\n"
     ]
    }
   ],
   "source": [
    "%%time\n",
    "signed_well = verify_signature(challenge, r, s, bigger_params)\n",
    "\n",
    "print(\"Идентификация успешна\" if signed_well else \"Верификация провалена\")"
   ]
  },
  {
   "cell_type": "markdown",
   "id": "6180675f",
   "metadata": {},
   "source": [
    "Как видно, протокол успешно отработал и на реальных значениях параметров криптосистемы, причем скорость работы алгоритма при увеличении битности параметров более в чем 10 раз практически не изменилась"
   ]
  }
 ],
 "metadata": {
  "kernelspec": {
   "display_name": "Python 3 (ipykernel)",
   "language": "python",
   "name": "python3"
  },
  "language_info": {
   "codemirror_mode": {
    "name": "ipython",
    "version": 3
   },
   "file_extension": ".py",
   "mimetype": "text/x-python",
   "name": "python",
   "nbconvert_exporter": "python",
   "pygments_lexer": "ipython3",
   "version": "3.11.5"
  }
 },
 "nbformat": 4,
 "nbformat_minor": 5
}
