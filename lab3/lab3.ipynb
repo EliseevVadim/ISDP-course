{
 "cells": [
  {
   "cell_type": "markdown",
   "id": "c5fd6099",
   "metadata": {},
   "source": [
    "# Лабораторная работа №3"
   ]
  },
  {
   "cell_type": "markdown",
   "id": "d8f7ecc0",
   "metadata": {},
   "source": [
    "## Криптографические протоколы на основе асимметричных криптосистем"
   ]
  },
  {
   "cell_type": "markdown",
   "id": "97d49ec1",
   "metadata": {},
   "source": [
    "**Задание:**\n",
    "\n",
    "Разработать алгоритмы, реализующие криптографические протоколы (см. вариант) взаимодействия удаленных абонентов на основе асимметричных криптосистем. \n",
    "\n",
    "Написать программы, реализующие эти протоколы для всех участников. Значения модуля криптосистемы выбирать не менее 50 бит. Для вычислений с большими числами можно использовать специальные программы.\n",
    "\n",
    "Для проверки чисел на простоту использовать комбинированный алгоритм на основе тестов Леманна или Рабина-Миллера\n",
    "Хеширование выполнять на основе любого блочного симметричного алгоритма (например, с использованием сети Фейстеля или алгоритма из предыдущих лаб. работ) по одной из схем, данных в лекциях.\n",
    "\n",
    "Проверить правильность выполнения протокола для малых значений параметров криптосистемы (контрольный пример).\n",
    "\n",
    "Продемонстрировать выполнение протокола для нормальных значений параметров криптосистемы.\n"
   ]
  },
  {
   "cell_type": "markdown",
   "id": "558a16ab",
   "metadata": {},
   "source": [
    "Задание по варианту: реализовать `протокол идентификации абонента с помощью алгоритма цифровой подписи DSA`."
   ]
  },
  {
   "cell_type": "markdown",
   "id": "fc707beb",
   "metadata": {},
   "source": [
    "Для тестирования результата сымитируем challenge-response аутентификацию: будем генерировать случайную строку заданной длины, после чего осуществим ее подпись на имитируемой стороне клиента. Далее проверим эту подпись на имитируемой стороне сервера, если она окажется корректной - аутентификация удалась"
   ]
  },
  {
   "cell_type": "markdown",
   "id": "be4b64a9",
   "metadata": {},
   "source": [
    "Суть алгоритма цифровой подписи [DSA](https://ru.wikipedia.org/wiki/DSA) заключается в следующем:"
   ]
  },
  {
   "cell_type": "markdown",
   "id": "e94c1685",
   "metadata": {},
   "source": [
    "Пусть у нас есть базовые параметры $H(m)$ - криптографическая хеш-функция от сообщения $m$, $q$ - простое число, размерность которого в битах совпадает с размерностью в битах значений $H(m)$, $p$, такое, что $p-1$ делится на $q$ без остатка, $g$, такое, что его [мультипликативный порядок по модулю](https://ru.wikipedia.org/wiki/Мультипликативный_порядок_по_модулю) $p$ равен $q$, $x$ - секретный ключ, случайное число от 1 до $q$, $y = g^x \\mod p$ - открытый ключ "
   ]
  },
  {
   "cell_type": "markdown",
   "id": "47409a5a",
   "metadata": {},
   "source": [
    "Далее мы можем подписать сообщение $m$ следующим образом:\n",
    "\n",
    "- выбрать случайное число $k \\in (0, q)$;\n",
    "- вычислить $r = (g^k \\mod p) \\mod q$, так, чтобы $r$ не равнялось нулю. В противном случае - поменять $k$;\n",
    "- вычислить $s = k^{-1}(H(m) + x \\cdot r) \\mod q$, так, чтобы $s$ не равнялось нулю. В противном случае - поменять $k$\n",
    "\n",
    "Подписью сообщения будет пара ($r$, $s$)"
   ]
  },
  {
   "cell_type": "markdown",
   "id": "dc21a2ec",
   "metadata": {},
   "source": [
    "Проверка подписи осуществляется по следующему алгоритму:\n",
    "\n",
    "- вычисляется $w = s^{-1} \\mod q$;\n",
    "- вычисляется $u_1 = H(m) \\cdot w \\mod q$;\n",
    "- вычисляется $u_2 = r \\cdot w \\mod q$;\n",
    "- вычисляется $v = (g^{u_1} \\cdot y^{u_2} \\mod p) \\mod q$\n",
    "\n",
    "Если $v = r$, значит подпись верна"
   ]
  },
  {
   "cell_type": "markdown",
   "id": "a73cf3bd",
   "metadata": {},
   "source": [
    "## Импорт необходимых библиотек"
   ]
  },
  {
   "cell_type": "code",
   "execution_count": 1,
   "id": "7af77824",
   "metadata": {},
   "outputs": [],
   "source": [
    "from core.params_generators import *\n",
    "from core.signing import *"
   ]
  },
  {
   "cell_type": "markdown",
   "id": "1b4e833e",
   "metadata": {},
   "source": [
    "Проверим корректность и эффективность работы протокола при малых параметрах криптосистемы, а потом при приближенных к реальным "
   ]
  },
  {
   "cell_type": "markdown",
   "id": "f2faa037",
   "metadata": {},
   "source": [
    "Сгенерируем подписываемое сообщение"
   ]
  },
  {
   "cell_type": "code",
   "execution_count": 2,
   "id": "8b197a7b",
   "metadata": {},
   "outputs": [
    {
     "data": {
      "text/plain": [
       "'7968'"
      ]
     },
     "execution_count": 2,
     "metadata": {},
     "output_type": "execute_result"
    }
   ],
   "source": [
    "challenge = generate_challenge(1000, 9999)\n",
    "challenge"
   ]
  },
  {
   "cell_type": "markdown",
   "id": "31d7a513",
   "metadata": {},
   "source": [
    "## Проверка протокола на малых параметрах"
   ]
  },
  {
   "cell_type": "markdown",
   "id": "d9b0caa8",
   "metadata": {},
   "source": [
    "Сгенерируем параметры криптосистемы с малой битностью"
   ]
  },
  {
   "cell_type": "code",
   "execution_count": 3,
   "id": "95984d42",
   "metadata": {},
   "outputs": [
    {
     "name": "stdout",
     "output_type": "stream",
     "text": [
      "Закрытый ключ: 97887929\n",
      "Открытый ключ: 1516042254\n"
     ]
    }
   ],
   "source": [
    "small_params = generate_dsa_parameters(bits=66)\n",
    "\n",
    "print(f\"Закрытый ключ: {small_params[3]}\")\n",
    "print(f\"Открытый ключ: {small_params[4]}\")"
   ]
  },
  {
   "cell_type": "markdown",
   "id": "8d045d2b",
   "metadata": {},
   "source": [
    "Запустим процесс цифровой подписи"
   ]
  },
  {
   "cell_type": "code",
   "execution_count": 4,
   "id": "1b7a8bd6",
   "metadata": {},
   "outputs": [
    {
     "name": "stdout",
     "output_type": "stream",
     "text": [
      "Сообщение было подписано: r = 42791890, s = 20651287\n",
      "CPU times: total: 0 ns\n",
      "Wall time: 1 ms\n"
     ]
    }
   ],
   "source": [
    "%%time\n",
    "r, s = sign_message(challenge, small_params)\n",
    "\n",
    "print(f\"Сообщение было подписано: r = {r}, s = {s}\")"
   ]
  },
  {
   "cell_type": "markdown",
   "id": "0e226c05",
   "metadata": {},
   "source": [
    "Проверим успешность идентификации"
   ]
  },
  {
   "cell_type": "code",
   "execution_count": 5,
   "id": "fcea87e7",
   "metadata": {},
   "outputs": [
    {
     "name": "stdout",
     "output_type": "stream",
     "text": [
      "Идентификация успешна\n",
      "CPU times: total: 0 ns\n",
      "Wall time: 1 ms\n"
     ]
    }
   ],
   "source": [
    "%%time\n",
    "signed_well = verify_signature(challenge, r, s, small_params)\n",
    "\n",
    "print(\"Идентификация успешна\" if signed_well else \"Идентификация провалена\")"
   ]
  },
  {
   "cell_type": "markdown",
   "id": "1b917f9d",
   "metadata": {},
   "source": [
    "Как видно, протокол успешно отработал на малых значениях параметров криптосистемы"
   ]
  },
  {
   "cell_type": "markdown",
   "id": "7a486397",
   "metadata": {},
   "source": [
    "## Проверка протокола на реальных параметрах"
   ]
  },
  {
   "cell_type": "markdown",
   "id": "7508eb76",
   "metadata": {},
   "source": [
    "Сгенерируем параметры криптосистемы с большей битностью"
   ]
  },
  {
   "cell_type": "code",
   "execution_count": 6,
   "id": "d5cba664",
   "metadata": {},
   "outputs": [
    {
     "name": "stdout",
     "output_type": "stream",
     "text": [
      "Закрытый ключ: 3314514092876822308529489145021961516349167259239800060492386510595974391908468142268222480601836242\n",
      "Открытый ключ: 15804729763397345123056224991530203278253950389748557152334359535827844532408522379495167631513255958\n"
     ]
    }
   ],
   "source": [
    "bigger_params = generate_dsa_parameters(bits=666)\n",
    "\n",
    "print(f\"Закрытый ключ: {bigger_params[3]}\")\n",
    "print(f\"Открытый ключ: {bigger_params[4]}\")"
   ]
  },
  {
   "cell_type": "markdown",
   "id": "c5a29882",
   "metadata": {},
   "source": [
    "Запустим процесс цифровой подписи"
   ]
  },
  {
   "cell_type": "code",
   "execution_count": 7,
   "id": "62834d94",
   "metadata": {},
   "outputs": [
    {
     "name": "stdout",
     "output_type": "stream",
     "text": [
      "Сообщение было подписано: r = 2513672138068741840393466388624152781273501510052025560877167487594775223593590233912584286382273517, s = 790416902515980663293363423867731418707009296050333833497332271362210327718173972660224536750860500\n",
      "CPU times: total: 0 ns\n",
      "Wall time: 999 µs\n"
     ]
    }
   ],
   "source": [
    "%%time\n",
    "r, s = sign_message(challenge, bigger_params)\n",
    "\n",
    "print(f\"Сообщение было подписано: r = {r}, s = {s}\")"
   ]
  },
  {
   "cell_type": "markdown",
   "id": "43cf4fcb",
   "metadata": {},
   "source": [
    "Проверим успешность идентификации"
   ]
  },
  {
   "cell_type": "code",
   "execution_count": 8,
   "id": "c5a7b3bd",
   "metadata": {},
   "outputs": [
    {
     "name": "stdout",
     "output_type": "stream",
     "text": [
      "Идентификация успешна\n",
      "CPU times: total: 0 ns\n",
      "Wall time: 1.02 ms\n"
     ]
    }
   ],
   "source": [
    "%%time\n",
    "signed_well = verify_signature(challenge, r, s, bigger_params)\n",
    "\n",
    "print(\"Идентификация успешна\" if signed_well else \"Идентификация провалена\")"
   ]
  },
  {
   "cell_type": "markdown",
   "id": "0fd3a929",
   "metadata": {},
   "source": [
    "Как видно, протокол успешно отработал и на реальных значениях параметров криптосистемы, причем скорость работы алгоритма при увеличении битности параметров более в чем 10 раз практически не изменилась"
   ]
  }
 ],
 "metadata": {
  "kernelspec": {
   "display_name": "Python 3 (ipykernel)",
   "language": "python",
   "name": "python3"
  },
  "language_info": {
   "codemirror_mode": {
    "name": "ipython",
    "version": 3
   },
   "file_extension": ".py",
   "mimetype": "text/x-python",
   "name": "python",
   "nbconvert_exporter": "python",
   "pygments_lexer": "ipython3",
   "version": "3.11.5"
  }
 },
 "nbformat": 4,
 "nbformat_minor": 5
}
